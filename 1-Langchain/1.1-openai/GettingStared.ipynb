{
 "cells": [
  {
   "cell_type": "code",
   "execution_count": 2,
   "metadata": {},
   "outputs": [],
   "source": [
    "import os \n",
    "from dotenv import load_dotenv\n",
    "load_dotenv()\n",
    "\n",
    "os.environ['OPENAI_API_KEY'] = os.getenv(\"OPENAI_API_KEY\")\n",
    "## Langsmith Tracking\n",
    "os.environ['LANGCHAIN_API_KEY'] = os.getenv(\"LANGCHAIN_API_KEY\")\n",
    "os.environ['LANGCHAIN_TRACING_V2'] = \"true\"\n",
    "os.environ['LANGCHAIN_PROJECT'] = os.getenv(\"LANGCHAIN_PROJECT\")"
   ]
  },
  {
   "cell_type": "code",
   "execution_count": 38,
   "metadata": {},
   "outputs": [
    {
     "name": "stdout",
     "output_type": "stream",
     "text": [
      "client=<openai.resources.chat.completions.Completions object at 0x000001B0FD565390> async_client=<openai.resources.chat.completions.AsyncCompletions object at 0x000001B0FD55EEF0> root_client=<openai.OpenAI object at 0x000001B0FD5516F0> root_async_client=<openai.AsyncOpenAI object at 0x000001B0FD565420> model_name='gpt-4o' model_kwargs={} openai_api_key=SecretStr('**********')\n"
     ]
    }
   ],
   "source": [
    "from langchain_openai import ChatOpenAI\n",
    "llm = ChatOpenAI(model=\"gpt-4o\")\n",
    "print(llm)\n"
   ]
  },
  {
   "cell_type": "code",
   "execution_count": 25,
   "metadata": {},
   "outputs": [],
   "source": [
    "## Input and get response from LLM\n",
    "\n",
    "result = llm.invoke(\"What is genAI\")"
   ]
  },
  {
   "cell_type": "code",
   "execution_count": 26,
   "metadata": {},
   "outputs": [
    {
     "name": "stdout",
     "output_type": "stream",
     "text": [
      "content='genAI is a company that specializes in artificial intelligence and machine learning technologies. They offer solutions for various industries such as healthcare, finance, and marketing to help businesses improve efficiency, productivity, and decision-making processes. Their services include data analysis, predictive analytics, and automation.' additional_kwargs={'refusal': None} response_metadata={'token_usage': {'completion_tokens': 54, 'prompt_tokens': 11, 'total_tokens': 65, 'completion_tokens_details': {'audio_tokens': None, 'reasoning_tokens': 0}, 'prompt_tokens_details': {'audio_tokens': None, 'cached_tokens': 0}}, 'model_name': 'gpt-3.5-turbo-0125', 'system_fingerprint': None, 'finish_reason': 'stop', 'logprobs': None} id='run-ec5ea71c-2dde-4524-9ed7-cdf531cb43d4-0' usage_metadata={'input_tokens': 11, 'output_tokens': 54, 'total_tokens': 65, 'input_token_details': {'cache_read': 0}, 'output_token_details': {'reasoning': 0}}\n"
     ]
    }
   ],
   "source": [
    "print(result)"
   ]
  },
  {
   "cell_type": "code",
   "execution_count": 40,
   "metadata": {},
   "outputs": [],
   "source": [
    "### Chatprompt Template wit chain\n",
    "from langchain_core.prompts import ChatPromptTemplate\n",
    "\n",
    "prompt = ChatPromptTemplate.from_messages(\n",
    "    [\n",
    "        (\n",
    "            \"system\", \"You are an expert .net developer\",\n",
    "        ),\n",
    "        (\"human\", \"{input}\"),\n",
    "    ]\n",
    ")"
   ]
  },
  {
   "cell_type": "code",
   "execution_count": 41,
   "metadata": {},
   "outputs": [
    {
     "data": {
      "text/plain": [
       "AIMessage(content=\"Choosing between .NET and Node.js for a property listing website depends on several factors, including your team's expertise, project requirements, and long-term goals. Here's a breakdown to help you decide:\\n\\n### .NET\\n\\n**Pros:**\\n1. **Robust Framework**: .NET is a mature and robust framework that is well-suited for enterprise-level applications.\\n2. **Performance**: .NET Core (now .NET 5 and beyond) is known for its high performance, especially for CPU-bound operations.\\n3. **Security**: Offers comprehensive security features, making it a good choice for applications that require strong security measures.\\n4. **Language Support**: Primarily uses C#, which is a powerful and versatile language.\\n5. **Tooling and Support**: Excellent tooling support with Visual Studio and a strong community backing.\\n6. **Cross-Platform**: With .NET Core and beyond, it is cross-platform, allowing deployment on Windows, Linux, and macOS.\\n\\n**Cons:**\\n1. **Learning Curve**: Can have a steeper learning curve for developers not familiar with C# or the .NET ecosystem.\\n2. **Hosting Costs**: While this has improved, hosting can still be more costly compared to some Node.js solutions.\\n\\n### Node.js\\n\\n**Pros:**\\n1. **JavaScript Everywhere**: Uses JavaScript, which means the same language can be used for both client-side and server-side code.\\n2. **Asynchronous and Event-Driven**: Well-suited for I/O-bound and real-time applications due to its non-blocking architecture.\\n3. **Large Ecosystem**: Has a vast ecosystem with npm, allowing you to leverage a wide range of libraries and tools.\\n4. **Community**: Strong and active community with continuous contributions and updates.\\n5. **Microservices Friendly**: Naturally aligns with microservices architecture due to its lightweight nature.\\n\\n**Cons:**\\n1. **Single-Threaded**: Although it's excellent for I/O operations, Node.js can struggle with CPU-intensive tasks.\\n2. **Callback Hell**: Can lead to complex code if not managed properly, although modern async/await syntax has mitigated this issue.\\n3. **Maturity**: While mature, it may not match the enterprise-level maturity and features of .NET for certain use cases.\\n\\n### Considerations\\n\\n1. **Team Expertise**: If your team is more familiar with one technology over the other, that may influence your choice.\\n2. **Project Requirements**: Consider the specific needs of your project, such as performance requirements, real-time data handling, and the complexity of business logic.\\n3. **Deployment and Infrastructure**: Evaluate your hosting and deployment environment preferences. Both offer cloud support, but your choice might affect costs and available services.\\n4. **Future Scalability**: Both technologies can scale, but the approach and considerations may differ. Node.js might be preferable for microservices and real-time applications, while .NET might be better for complex enterprise solutions.\\n\\nUltimately, both .NET and Node.js are capable of handling a property listing website effectively. Your choice should align with your team's skills, the specific needs of your application, and your long-term vision for the project.\", additional_kwargs={'refusal': None}, response_metadata={'token_usage': {'completion_tokens': 653, 'prompt_tokens': 30, 'total_tokens': 683, 'completion_tokens_details': {'audio_tokens': None, 'reasoning_tokens': 0}, 'prompt_tokens_details': {'audio_tokens': None, 'cached_tokens': 0}}, 'model_name': 'gpt-4o-2024-08-06', 'system_fingerprint': 'fp_159d8341cc', 'finish_reason': 'stop', 'logprobs': None}, id='run-a757f6de-1155-449d-87a7-3017a5ac1806-0', usage_metadata={'input_tokens': 30, 'output_tokens': 653, 'total_tokens': 683, 'input_token_details': {'cache_read': 0}, 'output_token_details': {'reasoning': 0}})"
      ]
     },
     "execution_count": 41,
     "metadata": {},
     "output_type": "execute_result"
    }
   ],
   "source": [
    "chain = prompt | llm\n",
    "chain.invoke(\n",
    "    {\n",
    "        \"input\": \"Should I user .Net or NodeJs for website about listing property.\",\n",
    "    }\n",
    ")\n"
   ]
  },
  {
   "cell_type": "code",
   "execution_count": 42,
   "metadata": {},
   "outputs": [
    {
     "name": "stdout",
     "output_type": "stream",
     "text": [
      "Choosing between .NET and Node.js for a property listing website depends on several factors, including your team's expertise, project requirements, scalability, performance needs, and ecosystem preferences. Here's a breakdown to help guide your decision:\n",
      "\n",
      "### .NET\n",
      "**Pros:**\n",
      "1. **Robust Framework**: .NET, particularly ASP.NET Core, is a mature and powerful framework well-suited for building enterprise-level applications.\n",
      "2. **Performance**: Known for excellent performance, especially with server-side rendering and complex computations.\n",
      "3. **Security**: Built-in features for authentication, authorization, and data protection.\n",
      "4. **Scalability**: Supports building scalable applications, and integrates well with Azure for cloud deployments.\n",
      "5. **Tooling and Support**: Strong IDE support (e.g., Visual Studio), and a rich library ecosystem.\n",
      "6. **Cross-Platform**: With .NET Core, you can run your applications on Windows, Linux, and macOS.\n",
      "\n",
      "**Cons:**\n",
      "1. **Learning Curve**: Can be complex for developers unfamiliar with Microsoft's ecosystem.\n",
      "2. **Cost**: While .NET Core is open-source, some enterprise features and tools can be costly.\n",
      "\n",
      "### Node.js\n",
      "**Pros:**\n",
      "1. **JavaScript Everywhere**: Uses JavaScript, which may simplify development if your team is already proficient in it, especially for full-stack development.\n",
      "2. **Non-blocking I/O**: Ideal for handling concurrent requests, making it suitable for real-time applications.\n",
      "3. **Rich Ecosystem**: NPM offers a vast number of libraries and tools.\n",
      "4. **Microservices Architecture**: Well-suited for microservices, allowing for the easy development of scalable applications.\n",
      "5. **Community Support**: Large and active community with numerous resources and tutorials.\n",
      "\n",
      "**Cons:**\n",
      "1. **Single-threaded**: While Node.js is efficient with I/O operations, CPU-intensive tasks can be a bottleneck.\n",
      "2. **Callback Hell**: Can lead to complex and hard-to-maintain code, though Promises and async/await have mitigated this.\n",
      "3. **Maturity**: While rapidly improving, it may not yet match the maturity level of .NET for certain enterprise needs.\n",
      "\n",
      "### Decision Factors\n",
      "1. **Team Expertise**: Choose the technology that aligns with your team's existing skills to ensure efficient development.\n",
      "2. **Project Requirements**: Consider the specific needs of your application. For example, if you anticipate high concurrency and require real-time features, Node.js might be favorable.\n",
      "3. **Ecosystem and Integration**: If your project needs to integrate with other Microsoft technologies, .NET may be advantageous.\n",
      "4. **Development Speed**: Node.js might offer faster development cycles due to its JavaScript roots and package ecosystem.\n",
      "5. **Hosting and Deployment**: Consider your hosting environment and deployment strategies. Azure, for example, offers excellent support for .NET applications.\n",
      "\n",
      "Ultimately, both .NET and Node.js are capable of supporting a property listing website. Your decision should weigh heavily on the specific needs of your project and the composition of your development team.\n"
     ]
    }
   ],
   "source": [
    "## stroutput Parser\n",
    "from langchain_core.output_parsers import StrOutputParser\n",
    "output_parser = StrOutputParser()\n",
    "chain = prompt | llm | output_parser\n",
    "\n",
    "response = chain.invoke(\n",
    "    {\n",
    "        \"input\": \"Should I user .Net or NodeJs for website about listing property.\",\n",
    "    }\n",
    ")\n",
    "print(response)"
   ]
  }
 ],
 "metadata": {
  "kernelspec": {
   "display_name": "Python 3",
   "language": "python",
   "name": "python3"
  },
  "language_info": {
   "codemirror_mode": {
    "name": "ipython",
    "version": 3
   },
   "file_extension": ".py",
   "mimetype": "text/x-python",
   "name": "python",
   "nbconvert_exporter": "python",
   "pygments_lexer": "ipython3",
   "version": "3.10.0"
  }
 },
 "nbformat": 4,
 "nbformat_minor": 2
}

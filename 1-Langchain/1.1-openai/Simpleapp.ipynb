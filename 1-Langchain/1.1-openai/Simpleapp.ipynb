{
 "cells": [
  {
   "cell_type": "markdown",
   "metadata": {},
   "source": [
    "#### Simple Agen AI app Using Langchain"
   ]
  },
  {
   "cell_type": "code",
   "execution_count": 1,
   "metadata": {},
   "outputs": [],
   "source": [
    "\n",
    "import os \n",
    "from dotenv import load_dotenv\n",
    "load_dotenv()\n",
    "\n",
    "os.environ['OPENAI_API_KEY'] = os.getenv(\"OPENAI_API_KEY\")\n",
    "## Langsmith Tracking\n",
    "os.environ['LANGCHAIN_API_KEY'] = os.getenv(\"LANGCHAIN_API_KEY\")\n",
    "os.environ['LANGCHAIN_TRACING_V2'] = \"true\"\n",
    "os.environ['LANGCHAIN_PROJECT'] = os.getenv(\"LANGCHAIN_PROJECT\")"
   ]
  },
  {
   "cell_type": "code",
   "execution_count": 3,
   "metadata": {},
   "outputs": [],
   "source": [
    "## Data Ingestion -- From the website we need scrape the data\n",
    "from langchain_community.document_loaders import WebBaseLoader\n"
   ]
  },
  {
   "cell_type": "code",
   "execution_count": 47,
   "metadata": {},
   "outputs": [
    {
     "data": {
      "text/plain": [
       "<langchain_community.document_loaders.web_base.WebBaseLoader at 0x236ab0198d0>"
      ]
     },
     "execution_count": 47,
     "metadata": {},
     "output_type": "execute_result"
    }
   ],
   "source": [
    "loader = WebBaseLoader(\"https://vnexpress.net/nuoc-my-chia-re-4811596.html\")\n",
    "loader"
   ]
  },
  {
   "cell_type": "code",
   "execution_count": 48,
   "metadata": {},
   "outputs": [
    {
     "data": {
      "text/plain": [
       "[Document(metadata={'source': 'https://vnexpress.net/nuoc-my-chia-re-4811596.html', 'title': 'Nước Mỹ chia rẽ', 'description': 'Cuộc bầu cử tổng thống Mỹ sắp tới, vào ngày 5/11, chắc chắn sẽ là sự kiện có tác động lớn đến lịch sử. Điều duy nhất chúng ta có thể khẳng định là cuộc bầu cử này sẽ để lại ảnh hưởng lâu dài. - VnExpress', 'language': 'vi'}, page_content='\\n\\n\\nNước Mỹ chia rẽ \\n\\n\\n\\n\\n\\n\\n\\n\\n\\n\\n\\n\\n\\n\\n\\n\\n\\n\\n\\n\\n\\n\\n\\n\\n\\n\\n\\n\\n\\n \\n\\n\\n\\n\\n\\n\\n\\n\\n\\n\\n\\n\\n\\n\\n\\n\\n\\n\\n\\n\\n\\n\\n\\n\\n\\n\\n\\n\\n\\n\\n\\n\\n\\n\\n\\n\\n\\n\\n\\n\\n\\n\\n\\n\\n\\n\\n\\n\\n\\n\\n\\n\\n  \\n\\n\\n\\n\\n\\n\\n\\n\\n\\n\\n\\n\\n\\n\\n\\n\\n\\n\\n\\n\\n\\n\\n\\n\\n\\n\\n\\n\\n\\n\\n\\n\\n\\n\\n\\n \\n\\n \\n\\n\\n\\n \\n\\n\\n\\n\\n\\n\\n\\n\\n\\n\\n\\n\\n\\nThứ hai, 4/11/2024\\n\\n\\n\\n\\nMới nhất\\n\\n\\n\\n\\n\\nTin theo khu vực\\n\\n\\n\\nHà NộiTP Hồ Chí Minh \\n\\nInternational\\n\\n\\n\\n\\n\\n\\n\\n\\n\\n\\n\\n\\n\\n\\n\\n\\n\\n\\n\\nMới nhất\\n\\n\\nThời sự \\n\\n\\n\\nGóc nhìn \\n\\n\\n\\nThế giới \\n\\n\\n\\nVideo \\n\\n\\n\\nPodcasts \\n\\n\\n\\nKinh doanh \\n\\n\\n\\nBất động sản \\n\\n\\n\\nKhoa học \\n\\n\\n\\nGiải trí \\n\\n\\n\\nThể thao \\n\\n\\n\\nPháp luật \\n\\n\\n\\nGiáo dục \\n\\n\\n\\nSức khỏe \\n\\n\\n\\nĐời sống \\n\\n\\n\\nDu lịch \\n\\n\\n\\nSố hóa \\n\\n\\n\\nXe \\n\\n\\n\\nÝ kiến \\n\\n\\n\\nTâm sự \\n\\nTất cả \\n\\n\\n\\n\\n\\n\\n\\n\\n\\n\\n\\n\\n\\n\\n\\n\\n\\n\\n\\n\\n\\nTrở lại Góc nhìn\\n\\n\\n\\n\\n\\nGóc nhìnChính trị & chính sách \\n\\n\\nThứ hai, 4/11/2024, 00:00 (GMT+7)\\n\\nNước Mỹ chia rẽ \\n\\n\\n\\n\\n\\n\\n\\n\\nDavid Pickus\\nGiáo sư\\n\\n\\n\\n\\n\\n\\nCuộc bầu cử tổng thống Mỹ sắp tới, vào ngày 5/11, chắc chắn sẽ là sự kiện có tác động lớn đến lịch sử. Điều duy nhất chúng ta có thể khẳng định là cuộc bầu cử này sẽ để lại ảnh hưởng lâu dài.\\n\\nTuy nhiên, cụ thể nó sẽ định hình lịch sử như thế nào thì vẫn còn là điều chưa thể biết chắc. Hiện tại, điều tốt nhất chúng ta có thể làm là quan sát cẩn trọng và diễn giải kết quả bầu cử. Dù kết quả có thể được công bố ngay, nhưng những tác động đầy đủ sẽ cần thời gian để bộc lộ.Bài viết này nhằm cung cấp một hướng dẫn cho độc giả Việt Nam, giúp giải thích những vấn đề then chốt và bối cảnh để các bạn tự đưa ra quan điểm của mình về những gì sẽ diễn ra trong ngày bầu cử, và kết quả sẽ mang ý nghĩa gì, không chỉ cho nước Mỹ mà còn cho cả thế giới. Tôi sẽ không chia sẻ ý kiến cá nhân hay cố gắng thuyết phục bạn ủng hộ ứng viên nào. Thay vào đó, bài viết tập trung vào việc hiểu rõ những gì đang tiềm ẩn rủi ro khi người dân Mỹ đưa ra quyết định. Ở phần cuối, tôi sẽ đưa ra một dự đoán, không nhằm áp đặt quan điểm, mà để minh họa rằng cuộc bầu cử này không chỉ quyết định ai sẽ trở thành tổng thống tiếp theo mà còn cho thấy nước Mỹ đang thay đổi ra sao.Nhìn từ xa, có thể nghĩ rằng câu hỏi trọng tâm là liệu người Mỹ thích Trump hay Harris hơn. Nhưng cuộc bầu cử này còn vượt xa sự đối đầu giữa hai nhân vật. Đây là chương mới nhất trong những xung đột kéo dài và sâu sắc giữa các phe phái lâu đời trong xã hội Mỹ. Để hiểu rõ những phức tạp này, việc nắm bắt bối cảnh lịch sử và văn hóa chính trị của Mỹ là rất cần thiết.Các cuộc bầu cử tổng thống Mỹ thường làm nổi bật những sự chia rẽ lớn trong xã hội. Ngay cả khi có một người chiến thắng rõ ràng, khoảng cách chênh lệch thường rất nhỏ. Ví dụ, năm 2008, Barack Obama đã đánh bại John McCain một cách thuyết phục, nhưng vẫn có gần 60 triệu người Mỹ bỏ phiếu cho McCain, trong khi khoảng 70 triệu người ủng hộ Obama. Các cuộc bầu cử sau đó còn sát nút và gây tranh cãi hơn. Thực tế này cho thấy, bất kể ai thắng cử, sẽ luôn có một lượng lớn người dân không hài lòng và không ủng hộ người thắng cuộc.Nhiều người nhận thấy rằng, quảng cáo và các khẩu hiệu kêu gọi quyên góp thường xuyên xuất hiện bên cạnh mỗi thông tin về bầu cử. Không phải ngẫu nhiên mà bầu cử Mỹ đều là những cuộc cạnh tranh sát nút. Dữ liệu khảo sát cho thấy phần lớn cử tri Mỹ vốn đã quyết định sẽ bầu cho ai. Ngay cả khi ứng viên yêu thích của họ mắc sai lầm hay làm điều đáng xấu hổ, họ vẫn tiếp tục ủng hộ. Phe đối lập hầu như không thể làm gì khiến họ thay đổi được.Nếu vậy, tại sao phải chi nhiều tiền? Câu trả lời nằm một phần ở việc duy trì sự hứng khởi của cử tri, đảm bảo rằng họ không bị phân tâm. Ngoài ra, vẫn có một bộ phận nhỏ cử tri có thể bị thuyết phục bởi các chiến dịch sôi động và ấn tượng. Cả hai đảng đều đầu tư mạnh vào việc bao phủ truyền thông nhằm thu hút những cử tri chưa quyết định. Điều này khiến các chiến dịch tranh cử luôn giữ được không khí sôi sục, căng thẳng và đầy cảm xúc. Nhưng nó cũng khiến bầu cử ở Mỹ tốn kém khủng khiếp.Bên cạnh sự sát sao trên tổng thể, cần hiểu rõ sự chia rẽ theo khu vực. Dù phiếu bầu toàn quốc có thể sít sao, sẽ có những nơi mà Trump nhận được sự ủng hộ áp đảo, với tỷ lệ lên tới 70-80%, trong khi ở các khu vực khác, phần lớn sẽ nghiêng về Harris. Những khác biệt rõ rệt này phản ánh sự phân hóa sâu sắc trong xã hội Mỹ, có thể khiến các mâu thuẫn càng thêm gay gắt khi cuộc bầu cử diễn ra.Tôi muốn chia sẻ một quan sát cá nhân để làm nổi bật sự chia rẽ ngày càng lớn trong xã hội Mỹ. Sau khi sống ở nước ngoài, bao gồm cả thời gian ở Việt Nam, tôi vừa trở về Mỹ trong một chuyến thăm ngắn. Khi đứng trong một khu ngoại ô trên bờ Tây, tôi thấy những dãy nhà nhỏ nhưng khá đẹp. Hỏi giá, tôi được biết những căn nhà này có giá hơn một triệu USD - mức giá mà chỉ một bộ phận nhỏ người Mỹ có thể chi trả. Sự chia rẽ về tài sản và lối sống này phản ánh sự tách biệt xã hội rộng lớn hơn, ảnh hưởng đến cách mọi người bầu cử và cách các chiến dịch chính trị được triển khai. Điều này thường dẫn đến việc các ứng viên tập trung vào một số khu vực nhất định, bỏ qua những khu vực khác.Vậy, chúng ta nên kỳ vọng gì vào thứ Ba tới? Dưới đây là một số nhận định. Trước hết, nhiều chuyên gia đồng ý rằng thành công của Kamala Harris sẽ phụ thuộc phần lớn vào việc bà thể hiện thế nào ở các \"bang dao động\" như Georgia và Pennsylvania, những bang mà Biden đã thắng sát nút vào năm 2020. Nếu Harris giữ được những bang này, bà có cơ hội lớn. Nếu Trump chiến thắng ở đó, ông có thể giành thắng lợi. Cử tri trẻ, từ 35 tuổi trở xuống, có thể đóng vai trò quyết định. Một sự thay đổi nhỏ cũng có thể định đoạt kết quả.Thứ hai, dù chúng ta tập trung nhiều vào ứng viên, không tổng thống nào có thể thắng cử mà không xây dựng được một liên minh vững chắc. Liên minh của Trump chủ yếu bao gồm cử tri nông thôn, thị trấn nhỏ và những người sống ở thành phố ủng hộ các giá trị truyền thống của đảng Cộng hòa. Liên minh của Harris đa dạng hơn, bao gồm các nhóm thiểu số, người có thu nhập thấp đến trung bình, và giới chuyên nghiệp đô thị có học vấn cao. Cả hai ứng viên sẽ phải khơi dậy sự nhiệt tình của các nhóm ủng hộ mình, ngay cả khi điều đó khiến họ xa lánh phía bên kia.Cuối cùng, hãy nhớ rằng cuộc bầu cử này không chỉ là bầu tổng thống. Còn rất nhiều cuộc bầu cử khác, bao gồm các ghế trong Quốc hội Mỹ, cũng sẽ diễn ra. Quốc hội đã mất uy tín trong mắt công chúng và những năm tới có thể là thời gian quyết định liệu họ có thể khôi phục quyền lực và ảnh hưởng hay tiếp tục suy giảm. Những biến động này có thể làm cho chính trị Mỹ thêm phần hỗn loạn và khó đoán.Tóm lại, có hai điều nổi bật, bất kể ai thắng. Thứ nhất, các tổng thống tương lai có thể sẽ phải tập trung nhiều hơn vào các vấn đề nội địa, khi chính trị Mỹ ngày càng trở nên khó lường. Thứ hai, cuộc bầu cử này cho thấy sự chia rẽ sâu sắc trong xã hội Mỹ, và những vấn đề đó sẽ không dễ dàng giải quyết. Chính sách đối ngoại của Mỹ chắc chắn sẽ bị ảnh hưởng, nhưng tác động cụ thể như thế nào vẫn là điều khó dự đoán. Tôi khuyến khích các độc giả Việt Nam tự rút ra kết luận, và hy vọng bài viết này mang lại cái nhìn rõ ràng hơn về những động thái phức tạp đang diễn ra.David Pickus\\n\\n\\n\\n\\n\\n\\n\\xa0\\xa0Trở lại Góc nhìnTrở lại Góc nhìn\\n\\n\\n\\n\\n\\n\\n\\n\\n\\n\\nCopy link thành công\\n\\n\\n\\n\\n\\n\\n×\\n\\n\\n\\n\\n\\n\\n\\n\\n\\n\\n\\n\\n\\n\\n\\n\\n\\n\\n\\n\\n\\n\\n\\n\\n\\n\\n\\n\\n\\n\\n\\nĐăng ký nhận thông báo qua trình duyệt\\n\\nĐể không bỏ lỡ các bài viết mới nhất từ chuyên mục Góc nhìn cũng như những thông tin hấp dẫn khác từ VnExpress\\n\\nBạn có thể hủy đăng ký bất cứ khi nào\\n\\nĐể sau\\nĐồng ý\\n\\n\\n\\n \\n\\n\\n\\n\\n\\n\\n\\n\\n\\n\\n')]"
      ]
     },
     "execution_count": 48,
     "metadata": {},
     "output_type": "execute_result"
    }
   ],
   "source": [
    "docs = loader.load()\n",
    "docs"
   ]
  },
  {
   "cell_type": "code",
   "execution_count": null,
   "metadata": {},
   "outputs": [],
   "source": [
    "### Load Data --> Docs --> Divide text into chunks document --> text --> vectors --> Vector Embedding --> Vector Store DB\n",
    "from langchain_text_splitters import RecursiveCharacterTextSplitter\n",
    "\n",
    "text_splitter = RecursiveCharacterTextSplitter(chunk_size=1000, chunk_overlap=10)\n",
    "documents = text_splitter.split_documents(docs)"
   ]
  },
  {
   "cell_type": "code",
   "execution_count": 65,
   "metadata": {},
   "outputs": [
    {
     "data": {
      "text/plain": [
       "[Document(metadata={'source': 'https://vnexpress.net/nuoc-my-chia-re-4811596.html', 'title': 'Nước Mỹ chia rẽ', 'description': 'Cuộc bầu cử tổng thống Mỹ sắp tới, vào ngày 5/11, chắc chắn sẽ là sự kiện có tác động lớn đến lịch sử. Điều duy nhất chúng ta có thể khẳng định là cuộc bầu cử này sẽ để lại ảnh hưởng lâu dài. - VnExpress', 'language': 'vi'}, page_content='Nước Mỹ chia rẽ \\n\\n\\n\\n\\n\\n\\n\\n\\n\\n\\n\\n\\n\\n\\n\\n\\n\\n\\n\\n\\n\\n\\n\\n\\n\\n\\n\\n\\n\\n \\n\\n\\n\\n\\n\\n\\n\\n\\n\\n\\n\\n\\n\\n\\n\\n\\n\\n\\n\\n\\n\\n\\n\\n\\n\\n\\n\\n\\n\\n\\n\\n\\n\\n\\n\\n\\n\\n\\n\\n\\n\\n\\n\\n\\n\\n\\n\\n\\n\\n\\n\\n\\n  \\n\\n\\n\\n\\n\\n\\n\\n\\n\\n\\n\\n\\n\\n\\n\\n\\n\\n\\n\\n\\n\\n\\n\\n\\n\\n\\n\\n\\n\\n\\n\\n\\n\\n\\n\\n \\n\\n \\n\\n\\n\\n \\n\\n\\n\\n\\n\\n\\n\\n\\n\\n\\n\\n\\n\\nThứ hai, 4/11/2024\\n\\n\\n\\n\\nMới nhất\\n\\n\\n\\n\\n\\nTin theo khu vực\\n\\n\\n\\nHà NộiTP Hồ Chí Minh \\n\\nInternational\\n\\n\\n\\n\\n\\n\\n\\n\\n\\n\\n\\n\\n\\n\\n\\n\\n\\n\\n\\nMới nhất\\n\\n\\nThời sự \\n\\n\\n\\nGóc nhìn \\n\\n\\n\\nThế giới \\n\\n\\n\\nVideo \\n\\n\\n\\nPodcasts \\n\\n\\n\\nKinh doanh \\n\\n\\n\\nBất động sản \\n\\n\\n\\nKhoa học \\n\\n\\n\\nGiải trí \\n\\n\\n\\nThể thao \\n\\n\\n\\nPháp luật \\n\\n\\n\\nGiáo dục \\n\\n\\n\\nSức khỏe \\n\\n\\n\\nĐời sống \\n\\n\\n\\nDu lịch \\n\\n\\n\\nSố hóa \\n\\n\\n\\nXe \\n\\n\\n\\nÝ kiến \\n\\n\\n\\nTâm sự \\n\\nTất cả \\n\\n\\n\\n\\n\\n\\n\\n\\n\\n\\n\\n\\n\\n\\n\\n\\n\\n\\n\\n\\n\\nTrở lại Góc nhìn\\n\\n\\n\\n\\n\\nGóc nhìnChính trị & chính sách \\n\\n\\nThứ hai, 4/11/2024, 00:00 (GMT+7)\\n\\nNước Mỹ chia rẽ \\n\\n\\n\\n\\n\\n\\n\\n\\nDavid Pickus\\nGiáo sư\\n\\n\\n\\n\\n\\n\\nCuộc bầu cử tổng thống Mỹ sắp tới, vào ngày 5/11, chắc chắn sẽ là sự kiện có tác động lớn đến lịch sử. Điều duy nhất chúng ta có thể khẳng định là cuộc bầu cử này sẽ để lại ảnh hưởng lâu dài.'),\n",
       " Document(metadata={'source': 'https://vnexpress.net/nuoc-my-chia-re-4811596.html', 'title': 'Nước Mỹ chia rẽ', 'description': 'Cuộc bầu cử tổng thống Mỹ sắp tới, vào ngày 5/11, chắc chắn sẽ là sự kiện có tác động lớn đến lịch sử. Điều duy nhất chúng ta có thể khẳng định là cuộc bầu cử này sẽ để lại ảnh hưởng lâu dài. - VnExpress', 'language': 'vi'}, page_content='Tuy nhiên, cụ thể nó sẽ định hình lịch sử như thế nào thì vẫn còn là điều chưa thể biết chắc. Hiện tại, điều tốt nhất chúng ta có thể làm là quan sát cẩn trọng và diễn giải kết quả bầu cử. Dù kết quả có thể được công bố ngay, nhưng những tác động đầy đủ sẽ cần thời gian để bộc lộ.Bài viết này nhằm cung cấp một hướng dẫn cho độc giả Việt Nam, giúp giải thích những vấn đề then chốt và bối cảnh để các bạn tự đưa ra quan điểm của mình về những gì sẽ diễn ra trong ngày bầu cử, và kết quả sẽ mang ý nghĩa gì, không chỉ cho nước Mỹ mà còn cho cả thế giới. Tôi sẽ không chia sẻ ý kiến cá nhân hay cố gắng thuyết phục bạn ủng hộ ứng viên nào. Thay vào đó, bài viết tập trung vào việc hiểu rõ những gì đang tiềm ẩn rủi ro khi người dân Mỹ đưa ra quyết định. Ở phần cuối, tôi sẽ đưa ra một dự đoán, không nhằm áp đặt quan điểm, mà để minh họa rằng cuộc bầu cử này không chỉ quyết định ai sẽ trở thành tổng thống tiếp theo mà còn cho thấy nước Mỹ đang thay đổi ra sao.Nhìn từ xa, có thể nghĩ rằng câu hỏi'),\n",
       " Document(metadata={'source': 'https://vnexpress.net/nuoc-my-chia-re-4811596.html', 'title': 'Nước Mỹ chia rẽ', 'description': 'Cuộc bầu cử tổng thống Mỹ sắp tới, vào ngày 5/11, chắc chắn sẽ là sự kiện có tác động lớn đến lịch sử. Điều duy nhất chúng ta có thể khẳng định là cuộc bầu cử này sẽ để lại ảnh hưởng lâu dài. - VnExpress', 'language': 'vi'}, page_content='câu hỏi trọng tâm là liệu người Mỹ thích Trump hay Harris hơn. Nhưng cuộc bầu cử này còn vượt xa sự đối đầu giữa hai nhân vật. Đây là chương mới nhất trong những xung đột kéo dài và sâu sắc giữa các phe phái lâu đời trong xã hội Mỹ. Để hiểu rõ những phức tạp này, việc nắm bắt bối cảnh lịch sử và văn hóa chính trị của Mỹ là rất cần thiết.Các cuộc bầu cử tổng thống Mỹ thường làm nổi bật những sự chia rẽ lớn trong xã hội. Ngay cả khi có một người chiến thắng rõ ràng, khoảng cách chênh lệch thường rất nhỏ. Ví dụ, năm 2008, Barack Obama đã đánh bại John McCain một cách thuyết phục, nhưng vẫn có gần 60 triệu người Mỹ bỏ phiếu cho McCain, trong khi khoảng 70 triệu người ủng hộ Obama. Các cuộc bầu cử sau đó còn sát nút và gây tranh cãi hơn. Thực tế này cho thấy, bất kể ai thắng cử, sẽ luôn có một lượng lớn người dân không hài lòng và không ủng hộ người thắng cuộc.Nhiều người nhận thấy rằng, quảng cáo và các khẩu hiệu kêu gọi quyên góp thường xuyên xuất hiện bên cạnh mỗi thông tin về bầu cử.'),\n",
       " Document(metadata={'source': 'https://vnexpress.net/nuoc-my-chia-re-4811596.html', 'title': 'Nước Mỹ chia rẽ', 'description': 'Cuộc bầu cử tổng thống Mỹ sắp tới, vào ngày 5/11, chắc chắn sẽ là sự kiện có tác động lớn đến lịch sử. Điều duy nhất chúng ta có thể khẳng định là cuộc bầu cử này sẽ để lại ảnh hưởng lâu dài. - VnExpress', 'language': 'vi'}, page_content='bầu cử. Không phải ngẫu nhiên mà bầu cử Mỹ đều là những cuộc cạnh tranh sát nút. Dữ liệu khảo sát cho thấy phần lớn cử tri Mỹ vốn đã quyết định sẽ bầu cho ai. Ngay cả khi ứng viên yêu thích của họ mắc sai lầm hay làm điều đáng xấu hổ, họ vẫn tiếp tục ủng hộ. Phe đối lập hầu như không thể làm gì khiến họ thay đổi được.Nếu vậy, tại sao phải chi nhiều tiền? Câu trả lời nằm một phần ở việc duy trì sự hứng khởi của cử tri, đảm bảo rằng họ không bị phân tâm. Ngoài ra, vẫn có một bộ phận nhỏ cử tri có thể bị thuyết phục bởi các chiến dịch sôi động và ấn tượng. Cả hai đảng đều đầu tư mạnh vào việc bao phủ truyền thông nhằm thu hút những cử tri chưa quyết định. Điều này khiến các chiến dịch tranh cử luôn giữ được không khí sôi sục, căng thẳng và đầy cảm xúc. Nhưng nó cũng khiến bầu cử ở Mỹ tốn kém khủng khiếp.Bên cạnh sự sát sao trên tổng thể, cần hiểu rõ sự chia rẽ theo khu vực. Dù phiếu bầu toàn quốc có thể sít sao, sẽ có những nơi mà Trump nhận được sự ủng hộ áp đảo, với tỷ lệ lên tới'),\n",
       " Document(metadata={'source': 'https://vnexpress.net/nuoc-my-chia-re-4811596.html', 'title': 'Nước Mỹ chia rẽ', 'description': 'Cuộc bầu cử tổng thống Mỹ sắp tới, vào ngày 5/11, chắc chắn sẽ là sự kiện có tác động lớn đến lịch sử. Điều duy nhất chúng ta có thể khẳng định là cuộc bầu cử này sẽ để lại ảnh hưởng lâu dài. - VnExpress', 'language': 'vi'}, page_content='lên tới 70-80%, trong khi ở các khu vực khác, phần lớn sẽ nghiêng về Harris. Những khác biệt rõ rệt này phản ánh sự phân hóa sâu sắc trong xã hội Mỹ, có thể khiến các mâu thuẫn càng thêm gay gắt khi cuộc bầu cử diễn ra.Tôi muốn chia sẻ một quan sát cá nhân để làm nổi bật sự chia rẽ ngày càng lớn trong xã hội Mỹ. Sau khi sống ở nước ngoài, bao gồm cả thời gian ở Việt Nam, tôi vừa trở về Mỹ trong một chuyến thăm ngắn. Khi đứng trong một khu ngoại ô trên bờ Tây, tôi thấy những dãy nhà nhỏ nhưng khá đẹp. Hỏi giá, tôi được biết những căn nhà này có giá hơn một triệu USD - mức giá mà chỉ một bộ phận nhỏ người Mỹ có thể chi trả. Sự chia rẽ về tài sản và lối sống này phản ánh sự tách biệt xã hội rộng lớn hơn, ảnh hưởng đến cách mọi người bầu cử và cách các chiến dịch chính trị được triển khai. Điều này thường dẫn đến việc các ứng viên tập trung vào một số khu vực nhất định, bỏ qua những khu vực khác.Vậy, chúng ta nên kỳ vọng gì vào thứ Ba tới? Dưới đây là một số nhận định. Trước hết, nhiều'),\n",
       " Document(metadata={'source': 'https://vnexpress.net/nuoc-my-chia-re-4811596.html', 'title': 'Nước Mỹ chia rẽ', 'description': 'Cuộc bầu cử tổng thống Mỹ sắp tới, vào ngày 5/11, chắc chắn sẽ là sự kiện có tác động lớn đến lịch sử. Điều duy nhất chúng ta có thể khẳng định là cuộc bầu cử này sẽ để lại ảnh hưởng lâu dài. - VnExpress', 'language': 'vi'}, page_content='nhiều chuyên gia đồng ý rằng thành công của Kamala Harris sẽ phụ thuộc phần lớn vào việc bà thể hiện thế nào ở các \"bang dao động\" như Georgia và Pennsylvania, những bang mà Biden đã thắng sát nút vào năm 2020. Nếu Harris giữ được những bang này, bà có cơ hội lớn. Nếu Trump chiến thắng ở đó, ông có thể giành thắng lợi. Cử tri trẻ, từ 35 tuổi trở xuống, có thể đóng vai trò quyết định. Một sự thay đổi nhỏ cũng có thể định đoạt kết quả.Thứ hai, dù chúng ta tập trung nhiều vào ứng viên, không tổng thống nào có thể thắng cử mà không xây dựng được một liên minh vững chắc. Liên minh của Trump chủ yếu bao gồm cử tri nông thôn, thị trấn nhỏ và những người sống ở thành phố ủng hộ các giá trị truyền thống của đảng Cộng hòa. Liên minh của Harris đa dạng hơn, bao gồm các nhóm thiểu số, người có thu nhập thấp đến trung bình, và giới chuyên nghiệp đô thị có học vấn cao. Cả hai ứng viên sẽ phải khơi dậy sự nhiệt tình của các nhóm ủng hộ mình, ngay cả khi điều đó khiến họ xa lánh phía bên kia.Cuối'),\n",
       " Document(metadata={'source': 'https://vnexpress.net/nuoc-my-chia-re-4811596.html', 'title': 'Nước Mỹ chia rẽ', 'description': 'Cuộc bầu cử tổng thống Mỹ sắp tới, vào ngày 5/11, chắc chắn sẽ là sự kiện có tác động lớn đến lịch sử. Điều duy nhất chúng ta có thể khẳng định là cuộc bầu cử này sẽ để lại ảnh hưởng lâu dài. - VnExpress', 'language': 'vi'}, page_content='kia.Cuối cùng, hãy nhớ rằng cuộc bầu cử này không chỉ là bầu tổng thống. Còn rất nhiều cuộc bầu cử khác, bao gồm các ghế trong Quốc hội Mỹ, cũng sẽ diễn ra. Quốc hội đã mất uy tín trong mắt công chúng và những năm tới có thể là thời gian quyết định liệu họ có thể khôi phục quyền lực và ảnh hưởng hay tiếp tục suy giảm. Những biến động này có thể làm cho chính trị Mỹ thêm phần hỗn loạn và khó đoán.Tóm lại, có hai điều nổi bật, bất kể ai thắng. Thứ nhất, các tổng thống tương lai có thể sẽ phải tập trung nhiều hơn vào các vấn đề nội địa, khi chính trị Mỹ ngày càng trở nên khó lường. Thứ hai, cuộc bầu cử này cho thấy sự chia rẽ sâu sắc trong xã hội Mỹ, và những vấn đề đó sẽ không dễ dàng giải quyết. Chính sách đối ngoại của Mỹ chắc chắn sẽ bị ảnh hưởng, nhưng tác động cụ thể như thế nào vẫn là điều khó dự đoán. Tôi khuyến khích các độc giả Việt Nam tự rút ra kết luận, và hy vọng bài viết này mang lại cái nhìn rõ ràng hơn về những động thái phức tạp đang diễn ra.David Pickus'),\n",
       " Document(metadata={'source': 'https://vnexpress.net/nuoc-my-chia-re-4811596.html', 'title': 'Nước Mỹ chia rẽ', 'description': 'Cuộc bầu cử tổng thống Mỹ sắp tới, vào ngày 5/11, chắc chắn sẽ là sự kiện có tác động lớn đến lịch sử. Điều duy nhất chúng ta có thể khẳng định là cuộc bầu cử này sẽ để lại ảnh hưởng lâu dài. - VnExpress', 'language': 'vi'}, page_content='Trở lại Góc nhìnTrở lại Góc nhìn\\n\\n\\n\\n\\n\\n\\n\\n\\n\\n\\nCopy link thành công\\n\\n\\n\\n\\n\\n\\n×\\n\\n\\n\\n\\n\\n\\n\\n\\n\\n\\n\\n\\n\\n\\n\\n\\n\\n\\n\\n\\n\\n\\n\\n\\n\\n\\n\\n\\n\\n\\n\\nĐăng ký nhận thông báo qua trình duyệt\\n\\nĐể không bỏ lỡ các bài viết mới nhất từ chuyên mục Góc nhìn cũng như những thông tin hấp dẫn khác từ VnExpress\\n\\nBạn có thể hủy đăng ký bất cứ khi nào\\n\\nĐể sau\\nĐồng ý')]"
      ]
     },
     "execution_count": 65,
     "metadata": {},
     "output_type": "execute_result"
    }
   ],
   "source": [
    "documents"
   ]
  },
  {
   "cell_type": "code",
   "execution_count": 66,
   "metadata": {},
   "outputs": [],
   "source": [
    "from langchain_openai import OpenAIEmbeddings\n",
    "embeddings = OpenAIEmbeddings()"
   ]
  },
  {
   "cell_type": "code",
   "execution_count": 67,
   "metadata": {},
   "outputs": [],
   "source": [
    "from langchain_community.vectorstores import FAISS\n",
    "vectorstoredb = FAISS.from_documents(documents, embeddings)"
   ]
  },
  {
   "cell_type": "code",
   "execution_count": 68,
   "metadata": {},
   "outputs": [
    {
     "data": {
      "text/plain": [
       "<langchain_community.vectorstores.faiss.FAISS at 0x236ab04d3f0>"
      ]
     },
     "execution_count": 68,
     "metadata": {},
     "output_type": "execute_result"
    }
   ],
   "source": [
    "vectorstoredb"
   ]
  },
  {
   "cell_type": "code",
   "execution_count": 54,
   "metadata": {},
   "outputs": [
    {
     "data": {
      "text/plain": [
       "'và những vấn đề đó sẽ không dễ dàng giải quyết. Chính sách đối ngoại của Mỹ chắc chắn sẽ bị ảnh hưởng, nhưng tác động cụ thể như thế nào vẫn là điều khó dự đoán. Tôi khuyến khích các độc giả Việt Nam tự rút ra kết luận, và hy vọng bài viết này mang lại cái nhìn rõ ràng hơn về những động thái phức tạp đang diễn ra.David Pickus'"
      ]
     },
     "execution_count": 54,
     "metadata": {},
     "output_type": "execute_result"
    }
   ],
   "source": [
    "## Query from a vector db\n",
    "query = \"Bài viết này nhằm cung cấp\"\n",
    "result = vectorstoredb.similarity_search(query)\n",
    "result[0].page_content"
   ]
  },
  {
   "cell_type": "code",
   "execution_count": 55,
   "metadata": {},
   "outputs": [],
   "source": [
    "from langchain_openai import ChatOpenAI\n",
    "llm = ChatOpenAI(model=\"gpt-4o\")"
   ]
  },
  {
   "cell_type": "code",
   "execution_count": 79,
   "metadata": {},
   "outputs": [
    {
     "data": {
      "text/plain": [
       "RunnableBinding(bound=RunnableBinding(bound=RunnableAssign(mapper={\n",
       "  context: RunnableLambda(format_docs)\n",
       "}), kwargs={}, config={'run_name': 'format_inputs'}, config_factories=[])\n",
       "| ChatPromptTemplate(input_variables=['context'], input_types={}, partial_variables={}, messages=[HumanMessagePromptTemplate(prompt=PromptTemplate(input_variables=['context'], input_types={}, partial_variables={}, template='\\nAnser the following question based only on the provided context:\\n<context>\\n{context}\\n</context>\\n\\n\\n\\n    \\n    '), additional_kwargs={})])\n",
       "| ChatOpenAI(client=<openai.resources.chat.completions.Completions object at 0x00000236AAF4B4C0>, async_client=<openai.resources.chat.completions.AsyncCompletions object at 0x00000236AAF6ECB0>, root_client=<openai.OpenAI object at 0x00000236AAF33E20>, root_async_client=<openai.AsyncOpenAI object at 0x00000236AAF48A00>, model_name='gpt-4o', model_kwargs={}, openai_api_key=SecretStr('**********'))\n",
       "| StrOutputParser(), kwargs={}, config={'run_name': 'stuff_documents_chain'}, config_factories=[])"
      ]
     },
     "execution_count": 79,
     "metadata": {},
     "output_type": "execute_result"
    }
   ],
   "source": [
    "## Retrieval Chain, Document chain\n",
    "\n",
    "from langchain.chains.combine_documents import create_stuff_documents_chain\n",
    "from langchain_core.prompts import ChatPromptTemplate\n",
    "\n",
    "prompt = ChatPromptTemplate.from_template(\n",
    "    \"\"\"\n",
    "Anser the following question based only on the provided context:\n",
    "<context>\n",
    "{context}\n",
    "</context>\n",
    "\n",
    "\n",
    "\n",
    "    \n",
    "    \"\"\"\n",
    ")\n",
    "\n",
    "document_chain = create_stuff_documents_chain(llm, prompt)\n",
    "document_chain"
   ]
  },
  {
   "cell_type": "code",
   "execution_count": 29,
   "metadata": {},
   "outputs": [
    {
     "data": {
      "text/plain": [
       "'Trong cuộc bầu cử năm 2004, khoảng 23 người Mỹ đã quyên góp hơn một triệu USD mỗi người, với tổng số tiền họ ủng hộ cho các chiến dịch tranh cử là 58,9 triệu USD, theo Open Secrets.'"
      ]
     },
     "execution_count": 29,
     "metadata": {},
     "output_type": "execute_result"
    }
   ],
   "source": [
    "from langchain_core.documents import Document\n",
    "\n",
    "document_chain.invoke({\n",
    "    \"input\": \"Ở cuộc bầu cử năm 2004 người mỹ góp bao nhiêu tiền\",\n",
    "    \"context\": [Document(page_content=\"Ở cuộc bầu cử năm 2004, khoảng 23 người Mỹ đã quyên hơn một triệu USD, với tổng số tiền họ ủng hộ cho các chiến dịch tranh cử là 58,9 triệu USD, theo Open Secrets\")]\n",
    "    }\n",
    ")"
   ]
  },
  {
   "cell_type": "markdown",
   "metadata": {},
   "source": [
    "### Dynamic pass to  Retriver"
   ]
  },
  {
   "cell_type": "code",
   "execution_count": 57,
   "metadata": {},
   "outputs": [
    {
     "data": {
      "text/plain": [
       "<langchain_community.vectorstores.faiss.FAISS at 0x236aaf33f10>"
      ]
     },
     "execution_count": 57,
     "metadata": {},
     "output_type": "execute_result"
    }
   ],
   "source": [
    "# Input --> Retriever --> vectorstoredb\n",
    "\n",
    "vectorstoredb"
   ]
  },
  {
   "cell_type": "code",
   "execution_count": 80,
   "metadata": {},
   "outputs": [],
   "source": [
    "retriever = vectorstoredb.as_retriever()\n",
    "from langchain.chains import create_retrieval_chain\n",
    "\n",
    "retrieval_chain = create_retrieval_chain(retriever, document_chain)\n"
   ]
  },
  {
   "cell_type": "code",
   "execution_count": 74,
   "metadata": {},
   "outputs": [
    {
     "data": {
      "text/plain": [
       "RunnableBinding(bound=RunnableAssign(mapper={\n",
       "  context: RunnableBinding(bound=RunnableLambda(lambda x: x['input'])\n",
       "           | VectorStoreRetriever(tags=['FAISS', 'OpenAIEmbeddings'], vectorstore=<langchain_community.vectorstores.faiss.FAISS object at 0x00000236AB04D3F0>, search_kwargs={}), kwargs={}, config={'run_name': 'retrieve_documents'}, config_factories=[])\n",
       "})\n",
       "| RunnableAssign(mapper={\n",
       "    answer: RunnableBinding(bound=RunnableBinding(bound=RunnableAssign(mapper={\n",
       "              context: RunnableLambda(format_docs)\n",
       "            }), kwargs={}, config={'run_name': 'format_inputs'}, config_factories=[])\n",
       "            | ChatPromptTemplate(input_variables=['context'], input_types={}, partial_variables={}, messages=[HumanMessagePromptTemplate(prompt=PromptTemplate(input_variables=['context'], input_types={}, partial_variables={}, template='\\n    Anser the following question based only on the provided context:\\n    <context>\\n    {context}\\n    </context>\\n    \\n    '), additional_kwargs={})])\n",
       "            | ChatOpenAI(client=<openai.resources.chat.completions.Completions object at 0x00000236AAF4B4C0>, async_client=<openai.resources.chat.completions.AsyncCompletions object at 0x00000236AAF6ECB0>, root_client=<openai.OpenAI object at 0x00000236AAF33E20>, root_async_client=<openai.AsyncOpenAI object at 0x00000236AAF48A00>, model_name='gpt-4o', model_kwargs={}, openai_api_key=SecretStr('**********'))\n",
       "            | StrOutputParser(), kwargs={}, config={'run_name': 'stuff_documents_chain'}, config_factories=[])\n",
       "  }), kwargs={}, config={'run_name': 'retrieval_chain'}, config_factories=[])"
      ]
     },
     "execution_count": 74,
     "metadata": {},
     "output_type": "execute_result"
    }
   ],
   "source": [
    "retrieval_chain"
   ]
  },
  {
   "cell_type": "code",
   "execution_count": 81,
   "metadata": {},
   "outputs": [
    {
     "data": {
      "text/plain": [
       "'Dựa trên ngữ cảnh được cung cấp, không thể xác định rõ liệu người Mỹ thích Trump hay Harris hơn. Bài viết này tập trung vào việc giải thích bối cảnh và các yếu tố lịch sử, văn hóa chính trị của Mỹ, cũng như chỉ ra rằng cuộc bầu cử tổng thống Mỹ thường thể hiện sự chia rẽ sâu sắc trong xã hội. Những cuộc bầu cử gần đây rất sát nút và gây tranh cãi, cho thấy rằng dù ai thắng cử, sẽ luôn có một lượng lớn người dân không hài lòng. Vì vậy, không có thông tin cụ thể nào trong ngữ cảnh để kết luận người Mỹ thích Trump hay Harris hơn.'"
      ]
     },
     "execution_count": 81,
     "metadata": {},
     "output_type": "execute_result"
    }
   ],
   "source": [
    "## Get the response from the LLM\n",
    "response = retrieval_chain.invoke({\"input\": \"có bao nhiêu người Mỹ bỏ phiếu cho McCain?\"})\n",
    "response['answer']"
   ]
  },
  {
   "cell_type": "code",
   "execution_count": 82,
   "metadata": {},
   "outputs": [
    {
     "data": {
      "text/plain": [
       "[Document(metadata={'source': 'https://vnexpress.net/nuoc-my-chia-re-4811596.html', 'title': 'Nước Mỹ chia rẽ', 'description': 'Cuộc bầu cử tổng thống Mỹ sắp tới, vào ngày 5/11, chắc chắn sẽ là sự kiện có tác động lớn đến lịch sử. Điều duy nhất chúng ta có thể khẳng định là cuộc bầu cử này sẽ để lại ảnh hưởng lâu dài. - VnExpress', 'language': 'vi'}, page_content='câu hỏi trọng tâm là liệu người Mỹ thích Trump hay Harris hơn. Nhưng cuộc bầu cử này còn vượt xa sự đối đầu giữa hai nhân vật. Đây là chương mới nhất trong những xung đột kéo dài và sâu sắc giữa các phe phái lâu đời trong xã hội Mỹ. Để hiểu rõ những phức tạp này, việc nắm bắt bối cảnh lịch sử và văn hóa chính trị của Mỹ là rất cần thiết.Các cuộc bầu cử tổng thống Mỹ thường làm nổi bật những sự chia rẽ lớn trong xã hội. Ngay cả khi có một người chiến thắng rõ ràng, khoảng cách chênh lệch thường rất nhỏ. Ví dụ, năm 2008, Barack Obama đã đánh bại John McCain một cách thuyết phục, nhưng vẫn có gần 60 triệu người Mỹ bỏ phiếu cho McCain, trong khi khoảng 70 triệu người ủng hộ Obama. Các cuộc bầu cử sau đó còn sát nút và gây tranh cãi hơn. Thực tế này cho thấy, bất kể ai thắng cử, sẽ luôn có một lượng lớn người dân không hài lòng và không ủng hộ người thắng cuộc.Nhiều người nhận thấy rằng, quảng cáo và các khẩu hiệu kêu gọi quyên góp thường xuyên xuất hiện bên cạnh mỗi thông tin về bầu cử.'),\n",
       " Document(metadata={'source': 'https://vnexpress.net/nuoc-my-chia-re-4811596.html', 'title': 'Nước Mỹ chia rẽ', 'description': 'Cuộc bầu cử tổng thống Mỹ sắp tới, vào ngày 5/11, chắc chắn sẽ là sự kiện có tác động lớn đến lịch sử. Điều duy nhất chúng ta có thể khẳng định là cuộc bầu cử này sẽ để lại ảnh hưởng lâu dài. - VnExpress', 'language': 'vi'}, page_content='Tuy nhiên, cụ thể nó sẽ định hình lịch sử như thế nào thì vẫn còn là điều chưa thể biết chắc. Hiện tại, điều tốt nhất chúng ta có thể làm là quan sát cẩn trọng và diễn giải kết quả bầu cử. Dù kết quả có thể được công bố ngay, nhưng những tác động đầy đủ sẽ cần thời gian để bộc lộ.Bài viết này nhằm cung cấp một hướng dẫn cho độc giả Việt Nam, giúp giải thích những vấn đề then chốt và bối cảnh để các bạn tự đưa ra quan điểm của mình về những gì sẽ diễn ra trong ngày bầu cử, và kết quả sẽ mang ý nghĩa gì, không chỉ cho nước Mỹ mà còn cho cả thế giới. Tôi sẽ không chia sẻ ý kiến cá nhân hay cố gắng thuyết phục bạn ủng hộ ứng viên nào. Thay vào đó, bài viết tập trung vào việc hiểu rõ những gì đang tiềm ẩn rủi ro khi người dân Mỹ đưa ra quyết định. Ở phần cuối, tôi sẽ đưa ra một dự đoán, không nhằm áp đặt quan điểm, mà để minh họa rằng cuộc bầu cử này không chỉ quyết định ai sẽ trở thành tổng thống tiếp theo mà còn cho thấy nước Mỹ đang thay đổi ra sao.Nhìn từ xa, có thể nghĩ rằng câu hỏi'),\n",
       " Document(metadata={'source': 'https://vnexpress.net/nuoc-my-chia-re-4811596.html', 'title': 'Nước Mỹ chia rẽ', 'description': 'Cuộc bầu cử tổng thống Mỹ sắp tới, vào ngày 5/11, chắc chắn sẽ là sự kiện có tác động lớn đến lịch sử. Điều duy nhất chúng ta có thể khẳng định là cuộc bầu cử này sẽ để lại ảnh hưởng lâu dài. - VnExpress', 'language': 'vi'}, page_content='bầu cử. Không phải ngẫu nhiên mà bầu cử Mỹ đều là những cuộc cạnh tranh sát nút. Dữ liệu khảo sát cho thấy phần lớn cử tri Mỹ vốn đã quyết định sẽ bầu cho ai. Ngay cả khi ứng viên yêu thích của họ mắc sai lầm hay làm điều đáng xấu hổ, họ vẫn tiếp tục ủng hộ. Phe đối lập hầu như không thể làm gì khiến họ thay đổi được.Nếu vậy, tại sao phải chi nhiều tiền? Câu trả lời nằm một phần ở việc duy trì sự hứng khởi của cử tri, đảm bảo rằng họ không bị phân tâm. Ngoài ra, vẫn có một bộ phận nhỏ cử tri có thể bị thuyết phục bởi các chiến dịch sôi động và ấn tượng. Cả hai đảng đều đầu tư mạnh vào việc bao phủ truyền thông nhằm thu hút những cử tri chưa quyết định. Điều này khiến các chiến dịch tranh cử luôn giữ được không khí sôi sục, căng thẳng và đầy cảm xúc. Nhưng nó cũng khiến bầu cử ở Mỹ tốn kém khủng khiếp.Bên cạnh sự sát sao trên tổng thể, cần hiểu rõ sự chia rẽ theo khu vực. Dù phiếu bầu toàn quốc có thể sít sao, sẽ có những nơi mà Trump nhận được sự ủng hộ áp đảo, với tỷ lệ lên tới'),\n",
       " Document(metadata={'source': 'https://vnexpress.net/nuoc-my-chia-re-4811596.html', 'title': 'Nước Mỹ chia rẽ', 'description': 'Cuộc bầu cử tổng thống Mỹ sắp tới, vào ngày 5/11, chắc chắn sẽ là sự kiện có tác động lớn đến lịch sử. Điều duy nhất chúng ta có thể khẳng định là cuộc bầu cử này sẽ để lại ảnh hưởng lâu dài. - VnExpress', 'language': 'vi'}, page_content='kia.Cuối cùng, hãy nhớ rằng cuộc bầu cử này không chỉ là bầu tổng thống. Còn rất nhiều cuộc bầu cử khác, bao gồm các ghế trong Quốc hội Mỹ, cũng sẽ diễn ra. Quốc hội đã mất uy tín trong mắt công chúng và những năm tới có thể là thời gian quyết định liệu họ có thể khôi phục quyền lực và ảnh hưởng hay tiếp tục suy giảm. Những biến động này có thể làm cho chính trị Mỹ thêm phần hỗn loạn và khó đoán.Tóm lại, có hai điều nổi bật, bất kể ai thắng. Thứ nhất, các tổng thống tương lai có thể sẽ phải tập trung nhiều hơn vào các vấn đề nội địa, khi chính trị Mỹ ngày càng trở nên khó lường. Thứ hai, cuộc bầu cử này cho thấy sự chia rẽ sâu sắc trong xã hội Mỹ, và những vấn đề đó sẽ không dễ dàng giải quyết. Chính sách đối ngoại của Mỹ chắc chắn sẽ bị ảnh hưởng, nhưng tác động cụ thể như thế nào vẫn là điều khó dự đoán. Tôi khuyến khích các độc giả Việt Nam tự rút ra kết luận, và hy vọng bài viết này mang lại cái nhìn rõ ràng hơn về những động thái phức tạp đang diễn ra.David Pickus')]"
      ]
     },
     "execution_count": 82,
     "metadata": {},
     "output_type": "execute_result"
    }
   ],
   "source": [
    "response['context']\n"
   ]
  }
 ],
 "metadata": {
  "kernelspec": {
   "display_name": "Python 3",
   "language": "python",
   "name": "python3"
  },
  "language_info": {
   "codemirror_mode": {
    "name": "ipython",
    "version": 3
   },
   "file_extension": ".py",
   "mimetype": "text/x-python",
   "name": "python",
   "nbconvert_exporter": "python",
   "pygments_lexer": "ipython3",
   "version": "3.10.15"
  }
 },
 "nbformat": 4,
 "nbformat_minor": 2
}

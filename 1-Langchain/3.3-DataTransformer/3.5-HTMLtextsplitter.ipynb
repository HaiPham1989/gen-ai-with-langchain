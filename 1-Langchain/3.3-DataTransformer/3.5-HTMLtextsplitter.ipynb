{
 "cells": [
  {
   "cell_type": "code",
   "execution_count": 3,
   "metadata": {},
   "outputs": [
    {
     "data": {
      "text/plain": [
       "[Document(metadata={}, page_content='Welcome to My Website Bar Some text'),\n",
       " Document(metadata={'Header 1': 'Welcome to My Website'}, page_content='This is a simple HTML example.'),\n",
       " Document(metadata={'Header 1': 'Welcome to My Website', 'Header 2': 'Bar'}, page_content='H2.'),\n",
       " Document(metadata={'Header 1': 'Welcome to My Website', 'Header 2': 'Bar', 'Header 3': 'Some text'}, page_content='H3.')]"
      ]
     },
     "execution_count": 3,
     "metadata": {},
     "output_type": "execute_result"
    }
   ],
   "source": [
    "from langchain_text_splitters import HTMLHeaderTextSplitter\n",
    "\n",
    "html_string = \"\"\"\n",
    "<!DOCTYPE html>\n",
    "<html lang=\"en\">\n",
    "<head>\n",
    "    <meta charset=\"UTF-8\">\n",
    "    <meta name=\"viewport\" content=\"width=device-width, initial-scale=1.0\">\n",
    "    <title>Simple HTML Example</title>\n",
    "</head>\n",
    "<body>\n",
    "    <div>\n",
    "        <h1>Welcome to My Website</h1>\n",
    "        <p>This is a simple HTML example.</p>\n",
    "        <h2>Bar</h2>\n",
    "        <p>H2.</p>\n",
    "        <h3>Some text</h3>\n",
    "        <p>H3.</p>\n",
    "    </div>\n",
    "    <div>\n",
    "       \n",
    "    </div>\n",
    "</body>\n",
    "</html>\n",
    "\"\"\"\n",
    "\n",
    "headers_to_split_on = [\n",
    "    (\"h1\", \"Header 1\"),\n",
    "    (\"h2\", \"Header 2\"),\n",
    "    (\"h3\", \"Header 3\")\n",
    "]\n",
    "\n",
    "html_splitter = HTMLHeaderTextSplitter(headers_to_split_on)\n",
    "html_header_splits = html_splitter.split_text(html_string)\n",
    "html_header_splits\n"
   ]
  },
  {
   "cell_type": "code",
   "execution_count": 8,
   "metadata": {},
   "outputs": [
    {
     "data": {
      "text/plain": [
       "[Document(metadata={}, page_content='VnExpress Thế giới  \\nTin tức Đánh giá Tư liệu Khảo sát Thể lệ  \\nBầu cửTổng thống Mỹ 2024'),\n",
       " Document(metadata={'Header 2': 'Bầu cửTổng thống Mỹ 2024'}, page_content='Còn ngày đến bầu cử'),\n",
       " Document(metadata={}, page_content='15/7 - 18/7 Đại hội đảng Cộng hòa  \\n19/8-22/8 Đại hội đảng Dân chủ  \\n10/9 Tranh luận tổng thống  \\n5/11 Bầu cử  \\n20/1 Tân tổng thống nhậm chức  \\nCòn ngày đến bầu cử  \\nTrở lại Thế giới  \\nCuộc vận động của ông Trump có thể tạo đà cho bà Harris  \\nThứ ba, 29/10/2024, 14:30 (GMT+7)  \\nThế giới'),\n",
       " Document(metadata={'Header 1': 'Cuộc vận động của ông Trump có thể tạo đà cho bà Harris'}, page_content='Những phát biểu phân biệt chủng tộc của diễn viên hài trong cuộc vận động tại New York khiến phe Cộng hòa lo ngại ông Trump đang tạo cơ hội cho bà Harris.  \\nDiễn viên hài Tony Hinchcliffe, 40 tuổi, tối 27/10 được mời tới diễn thuyết trước đám đông tại hội trường Madison Square Garden ở thành phố New York, khi ứng viên tổng thống đảng Cộng hòa Donald Trump tổ chức cuộc vận động tranh cử tại đây.  \\nTuy nhiên, bài phát biểu của Hinchcliffe đã khiến chính các thành viên cốt cán của đảng Cộng hòa thất vọng, khi diễn viên này tung ra những lời lẽ mang tính phân biệt chủng tộc, tục tĩu và gây chia rẽ. Shermichael Singleton, chiến lược gia của đảng Cộng hòa, cho rằng cuộc vận động này của Trump đã trao \"cơ hội mới\" để bà Kamala Harris thắng ở Pennsylvania, bang chiến trường rất quan trọng với cả hai ứng viên.  \\nDiễn viên hài Tony Hinchcliffe phát biểu tại Madison Square Garden ở thành phố New York tối 27/10. Ảnh: AP  \\nTrên sân khấu ở Madison Square Garden, Hinchcliffee tuyên bố Puerto Rico là \"hòn đảo đầy rác rưởi trôi nổi giữa đại dương\", đồng thời đưa ra những lời lẽ khiếm nhã về người da đen và người gốc Latin.  \\nDiễn viên này đùa rằng người Mỹ gốc Latin thích \"tạo ra em bé\", rồi pha trò về việc cùng một người bạn da đen \"ngồi khắc dưa hấu\" cho lễ hội Halloween.  \\n\"Tôi chào đón người nhập cư tới Mỹ với vòng tay rộng mở\", Hinchcliffee nói, giang rộng hai tay. \"Và khi làm vậy, ý của tôi là: Đừng, hãy cút đi\".  \\nLàn sóng chỉ trích và giận dữ với bình luận của Hinchcliffee lan rộng tới mức đội ngũ vận động tranh cử của ông Trump phải nhanh chóng tuyên bố đây chỉ là lời nói đùa của nam diễn viên, không phản ánh quan điểm của ông Trump hay chiến dịch.  \\nNhiều thành viên đảng viên Cộng hòa đã lên án phát ngôn của Hinchcliffee, cho rằng sự kiện này có thể ảnh hưởng xấu tới ông Trump ở một số bang chiến trường quan trọng, nơi cử tri gốc Puerto Rico có thể lật ngược tình thế giữa ông Trump và bà Harris.  \\nSingleton, người từng làm việc trong chiến dịch tranh cử tổng thống của các ứng viên Cộng hòa như Newt Gingrich, Mitt Romney và Ben Carson, nhận định lời lẽ của Hinchcliffee có thể giáng đòn mạnh tới sự ủng hộ của cử tri Pennsylvania dành cho ông Trump, dù cựu tổng thống có tìm cách giải thích thế nào đi chăng nữa.  \\nTheo Singleton, Pennsylvania là bang chiến trường quan trọng, nơi có hơn 465.000 cử tri gốc Puerto Rico, chiếm 3,69% dân số, và chiến dịch của bà Harris trước đây phải rất vất vả để tìm cách lôi kéo cử tri.  \\n\"Giờ đây, nhóm ông Trump đã trao cho bà Harris cơ hội hướng tới nhóm cử tri này bằng cách chạy quảng cáo tiếng Anh và tiếng Tây Ban Nha, gõ cửa từng nhà, tập trung vào cộng đồng người Puerto Rico đông đúc\", ông nói tiếp. \"Ngay cả khi tỷ lệ cử tri gốc Puerto Rico đi bỏ phiếu tăng thêm chỉ 1-2%, họ cũng đủ để giúp Harris thắng ở bang này\".  \\nÔng Trump vận động tranh cử tại Madison Square Garden ở thành phố New York tối 27/10. Ảnh: AP  \\nChiến dịch của bà Harris lập tức tận dụng phát ngôn của Hinchcliffe, chia sẻ những câu nói của nam diễn viên về Puerto Rico trên mạng xã hội. Phó tổng thống Mỹ ngày 27/10 đăng video chỉ trích các chính sách của ông Trump với Puerto Rico và công bố kế hoạch chi tiết về chính sách thúc đẩy kinh tế quốc gia này nếu đắc cử vào tháng 11.  \\nMột số người Puerto Rico nổi tiếng đã lên tiếng ủng hộ bà Harris sau phát biểu của Hinchcliffe. Bad Bunny, người có 45,6 triệu người theo dõi trên Instagram, 4 lần chia sẻ video của bà Harris trên mạng xã hội.  \\nNhạc sĩ kiêm diễn viên Ricky Martin, người có hơn 18,6 triệu người theo dõi trên Instagram, đăng clip những câu nói đùa của Hinchcliffe lên tài khoản kèm bình luận bằng tiếng Tây Ban Nha: \"Đây là những gì họ nghĩ về chúng ta. Hãy bỏ phiếu cho Kamala Harris\".  \\nShanahan, giáo sư môn chính trị Đại học Surrey ở Anh, cho rằng phát ngôn của Hinchcliffe có thể là \"cách vận động gây ảnh hưởng nghiêm trọng nhất đến ông Trump trong tuần này\".  \\n\"Nếu Hinchcliffe gây bức xúc đủ để khiến cử tri xa rời ông Trump, đây có thể là trò đùa chấm dứt sự nghiệp của ông ta, cũng như chấm dứt hy vọng quay lại Nhà Trắng của Trump\", Shanahan nói.  \\nTheo kết quả thăm dò của FiveThirtyEight, tính đến tối 28/10, ông Trump đang dẫn trước 0,3% tại bang Pennsylvania, gần như ngang bằng vị thế với bà Harris. Kết quả thăm dò của New York Times cũng cho thấy hai người ngang nhau với 48% ủng hộ ở Pennsylvania tính đến 28/10, nhưng các khảo sát được tiến hành trước cuộc vận động của Trump ở New York.  \\nTheo kết quả khảo sát toàn quốc của ABC News/Ipsos được công bố hôm 27/10, bà Harris giành được 51% ủng hộ, cao hơn ông Trump 4 điểm phần trăm, khi cuộc bầu cử sẽ diễn ra trong một tuần nữa.  \\nHồng Hạnh (Theo Newsweek)  \\n\\xa0\\xa0Trở lại Thế giớiTrở lại Thế giới  \\nCopy link thành công'),\n",
       " Document(metadata={}, page_content='×  \\nTin tức Đánh giá Tư liệu Khảo sát Thể lệ  \\nĐiều khoản sử dụng Chia sẻ: Copy link thành công  \\nBáo điện tử VnExpress Báo tiếng Việt nhiều người xem nhất Thuộc Bộ Khoa học và Công nghệ Số giấy phép: 548/GP-BTTTT do Bộ Thông tin và Truyền thông cấp ngày 24/08/2021  \\nTổng biên tập: Phạm Văn Hiếu Địa chỉ: Tầng 10, Tòa A FPT Tower, số 10 Phạm Văn Bạch, Dịch Vọng, Cầu Giấy, Hà Nội Điện thoại: 024 7300 8899 - máy lẻ 4500Email: webmaster@vnexpress.net  \\n© 1997-2024. Toàn bộ bản quyền thuộc VnExpress')]"
      ]
     },
     "execution_count": 8,
     "metadata": {},
     "output_type": "execute_result"
    }
   ],
   "source": [
    "url = \"https://vnexpress.net/cuoc-van-dong-cua-ong-trump-co-the-tao-da-cho-ba-harris-4809590.html\"\n",
    "headers_to_split_on = [\n",
    "    (\"h1\", \"Header 1\"),\n",
    "    (\"h2\", \"Header 2\"),\n",
    "    (\"h3\", \"Header 3\"),\n",
    "    (\"h4\", \"Header 4\"),\n",
    "]\n",
    "\n",
    "html_splitter = HTMLHeaderTextSplitter(headers_to_split_on)\n",
    "html_header_splits = html_splitter.split_text_from_url(url)\n",
    "html_header_splits"
   ]
  }
 ],
 "metadata": {
  "kernelspec": {
   "display_name": "Python 3",
   "language": "python",
   "name": "python3"
  },
  "language_info": {
   "codemirror_mode": {
    "name": "ipython",
    "version": 3
   },
   "file_extension": ".py",
   "mimetype": "text/x-python",
   "name": "python",
   "nbconvert_exporter": "python",
   "pygments_lexer": "ipython3",
   "version": "3.10.15"
  }
 },
 "nbformat": 4,
 "nbformat_minor": 2
}

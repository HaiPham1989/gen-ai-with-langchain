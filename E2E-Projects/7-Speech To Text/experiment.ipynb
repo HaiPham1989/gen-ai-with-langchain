{
 "cells": [
  {
   "cell_type": "code",
   "execution_count": 5,
   "metadata": {},
   "outputs": [],
   "source": [
    "from groq import Groq\n",
    "from langchain.prompts import PromptTemplate\n",
    "from langchain.chains.summarize import load_summarize_chain\n",
    "from langchain_groq import ChatGroq\n",
    "from langchain.schema import Document  # Import Document class\n",
    "import requests"
   ]
  },
  {
   "cell_type": "code",
   "execution_count": 11,
   "metadata": {},
   "outputs": [],
   "source": [
    "groq_api_key = \"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\"\n",
    "audio_url = \"https://public-v1-stg.omicrm.com/third_party/recording/uc?id=ZkJDTGhDTk1CeWZUUFZqYy8zS2x0QnJLeDhUT29pSGZoVExpK21tRStrK202dFJldVp5Q0ZwQSsvY2poaE9FeG80cnV1bkRJVkRMSnlXK0g0MldRVEE9PQ==&code=c06e4571-2698-46db-af03-23c8da0e73f6\" "
   ]
  },
  {
   "cell_type": "code",
   "execution_count": 12,
   "metadata": {},
   "outputs": [],
   "source": [
    "client = Groq(api_key = groq_api_key)\n",
    "model = 'whisper-large-v3-turbo'\n",
    "summarizer_model = ChatGroq(api_key=groq_api_key, model=\"Gemma-7b-It\")"
   ]
  },
  {
   "cell_type": "code",
   "execution_count": 2,
   "metadata": {},
   "outputs": [],
   "source": [
    "\n",
    "def fetch_audio(audio_url):\n",
    "    \"\"\"Fetch audio data from a given URL.\"\"\"\n",
    "    response = requests.get(audio_url)\n",
    "    if response.status_code == 200:\n",
    "        with open(\"temp_audio.mp3\", \"wb\") as f:\n",
    "            f.write(response.content)\n",
    "        return \"temp_audio.mp3\"\n",
    "    else:\n",
    "        raise Exception(\"Failed to download audio file.\")"
   ]
  },
  {
   "cell_type": "code",
   "execution_count": 7,
   "metadata": {},
   "outputs": [],
   "source": [
    "def audio_to_text(filepath):\n",
    "    with open(filepath, \"rb\") as file:\n",
    "        translation = client.audio.transcriptions.create(\n",
    "            file=(filepath, file.read()),\n",
    "            model=\"whisper-large-v3\",\n",
    "        )\n",
    "    return translation.text"
   ]
  },
  {
   "cell_type": "code",
   "execution_count": 42,
   "metadata": {},
   "outputs": [],
   "source": [
    "def summarize_text(text):\n",
    "    \"\"\"Summarize text using LangChain with GROQ's summarization model.\"\"\"\n",
    "    # Define the summarization prompt\n",
    "    prompt_template = \"\"\"\n",
    "    Cung cấp nội dung của đoạn hội thoại trong phạm vi 300 từ:\n",
    "    Nội dung: {text}\n",
    "    \"\"\"\n",
    "    prompt = PromptTemplate(\n",
    "        template=prompt_template,\n",
    "        input_variables=[\"text\"]\n",
    "    )\n",
    "    \n",
    "    # Wrap text in a Document object\n",
    "    document = Document(page_content=text)\n",
    "\n",
    "    # Set up the summarization chain\n",
    "    chain = load_summarize_chain(summarizer_model, chain_type=\"stuff\", prompt=prompt)\n",
    "    summary = chain.run([document])\n",
    "\n",
    "    return summary"
   ]
  },
  {
   "cell_type": "code",
   "execution_count": 14,
   "metadata": {},
   "outputs": [],
   "source": [
    "audio_file_path = fetch_audio(\"https://public-v1-stg.omicrm.com/third_party/recording/uc?id=UHpuUTl2ZXcvamlIeFpDdkVaUDRRVkVMMVRIeXQvbStKQ0JFUFVwYTdjKy9rRmUyWnBkdTg2TDNYM09IaFVST280cnV1bkRJVkRMSnlXK0g0MldRVEE9PQ==&code=3a9cd43a-9aed-46f4-9daf-510d1c1fad8f\")\n",
    "translation_text = audio_to_text(\"temp_audio.mp3\")\n",
    "##summary = summarize_text(translation_text)\n",
    "##print(summary)"
   ]
  }
 ],
 "metadata": {
  "kernelspec": {
   "display_name": "Python 3",
   "language": "python",
   "name": "python3"
  },
  "language_info": {
   "codemirror_mode": {
    "name": "ipython",
    "version": 3
   },
   "file_extension": ".py",
   "mimetype": "text/x-python",
   "name": "python",
   "nbconvert_exporter": "python",
   "pygments_lexer": "ipython3",
   "version": "3.10.15"
  }
 },
 "nbformat": 4,
 "nbformat_minor": 2
}
